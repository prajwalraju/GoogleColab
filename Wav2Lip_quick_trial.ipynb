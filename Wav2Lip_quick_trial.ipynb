{
  "nbformat": 4,
  "nbformat_minor": 0,
  "metadata": {
    "colab": {
      "provenance": [],
      "include_colab_link": true
    },
    "kernelspec": {
      "name": "python3",
      "display_name": "Python 3"
    },
    "accelerator": "GPU"
  },
  "cells": [
    {
      "cell_type": "markdown",
      "metadata": {
        "id": "view-in-github",
        "colab_type": "text"
      },
      "source": [
        "<a href=\"https://colab.research.google.com/github/prajwalraju/GoogleColab/blob/main/Wav2Lip_quick_trial.ipynb\" target=\"_parent\"><img src=\"https://colab.research.google.com/assets/colab-badge.svg\" alt=\"Open In Colab\"/></a>"
      ]
    },
    {
      "cell_type": "markdown",
      "metadata": {
        "id": "vSQFs_G8caeE"
      },
      "source": [
        "# Collab preliminaries"
      ]
    },
    {
      "cell_type": "code",
      "source": [
        "#@title Make use of python 3\n",
        "\n",
        "# first install python 3.6\n",
        "!sudo apt-get update -y\n",
        "!sudo apt-get install python3.6\n",
        "# change alternatives\n",
        "!sudo update-alternatives --install /usr/bin/python3 python3 /usr/bin/python3.6 1\n",
        "# select python version\n",
        "!sudo update-alternatives --config python3\n",
        "# check python version\n",
        "!python --version\n",
        "# install pip for new python \n",
        "!sudo apt-get install python3.6-distutils\n",
        "!wget https://bootstrap.pypa.io/pip/3.6/get-pip.py\n",
        "!python get-pip.py\n",
        "# upgrade pip\n",
        "!sudo apt install python3-pip\n",
        "!python -m pip install --upgrade pip\n",
        "!python --version"
      ],
      "metadata": {
        "id": "9_IjkxySpYgn",
        "outputId": "efd2baae-e0b9-4cef-cb49-868312fd78c8",
        "colab": {
          "base_uri": "https://localhost:8080/"
        }
      },
      "execution_count": 4,
      "outputs": [
        {
          "output_type": "stream",
          "name": "stdout",
          "text": [
            "\r0% [Working]\r            \rHit:1 https://cloud.r-project.org/bin/linux/ubuntu focal-cran40/ InRelease\n",
            "\r0% [Waiting for headers] [Connecting to security.ubuntu.com (185.125.190.36)] [\r                                                                               \rHit:2 http://archive.ubuntu.com/ubuntu focal InRelease\n",
            "\r0% [Waiting for headers] [Connecting to security.ubuntu.com (185.125.190.36)] [\r                                                                               \rHit:3 https://developer.download.nvidia.com/compute/cuda/repos/ubuntu2004/x86_64  InRelease\n",
            "\r0% [Waiting for headers] [Waiting for headers] [Connecting to ppa.launchpad.net\r                                                                               \rHit:4 http://archive.ubuntu.com/ubuntu focal-updates InRelease\n",
            "\r0% [Waiting for headers] [Waiting for headers] [Connecting to ppa.launchpad.net\r0% [Waiting for headers] [Waiting for headers] [Connecting to ppa.launchpad.net\r                                                                               \rHit:5 http://archive.ubuntu.com/ubuntu focal-backports InRelease\n",
            "Hit:6 http://security.ubuntu.com/ubuntu focal-security InRelease\n",
            "Hit:7 http://ppa.launchpad.net/c2d4u.team/c2d4u4.0+/ubuntu focal InRelease\n",
            "Hit:8 http://ppa.launchpad.net/cran/libgit2/ubuntu focal InRelease\n",
            "Hit:9 http://ppa.launchpad.net/deadsnakes/ppa/ubuntu focal InRelease\n",
            "Hit:10 http://ppa.launchpad.net/graphics-drivers/ppa/ubuntu focal InRelease\n",
            "Hit:11 http://ppa.launchpad.net/ubuntugis/ppa/ubuntu focal InRelease\n",
            "Reading package lists... Done\n",
            "Reading package lists... Done\n",
            "Building dependency tree       \n",
            "Reading state information... Done\n",
            "python3.6 is already the newest version (3.6.15-1+focal3).\n",
            "0 upgraded, 0 newly installed, 0 to remove and 47 not upgraded.\n",
            "There are 3 choices for the alternative python3 (providing /usr/bin/python3).\n",
            "\n",
            "  Selection    Path                Priority   Status\n",
            "------------------------------------------------------------\n",
            "  0            /usr/bin/python3.9   2         auto mode\n",
            "* 1            /usr/bin/python3.6   1         manual mode\n",
            "  2            /usr/bin/python3.8   1         manual mode\n",
            "  3            /usr/bin/python3.9   2         manual mode\n",
            "\n",
            "Press <enter> to keep the current choice[*], or type selection number: 1\n",
            "Python 3.6.15\n",
            "Reading package lists... Done\n",
            "Building dependency tree       \n",
            "Reading state information... Done\n",
            "python3.6-distutils is already the newest version (3.6.15-1+focal3).\n",
            "0 upgraded, 0 newly installed, 0 to remove and 47 not upgraded.\n",
            "--2023-03-21 10:12:23--  https://bootstrap.pypa.io/pip/3.6/get-pip.py\n",
            "Resolving bootstrap.pypa.io (bootstrap.pypa.io)... 151.101.0.175, 151.101.64.175, 151.101.128.175, ...\n",
            "Connecting to bootstrap.pypa.io (bootstrap.pypa.io)|151.101.0.175|:443... connected.\n",
            "HTTP request sent, awaiting response... 200 OK\n",
            "Length: 2159061 (2.1M) [text/x-python]\n",
            "Saving to: ‘get-pip.py.2’\n",
            "\n",
            "get-pip.py.2        100%[===================>]   2.06M  --.-KB/s    in 0.07s   \n",
            "\n",
            "2023-03-21 10:12:23 (31.7 MB/s) - ‘get-pip.py.2’ saved [2159061/2159061]\n",
            "\n",
            "Looking in indexes: https://pypi.org/simple, https://us-python.pkg.dev/colab-wheels/public/simple/\n",
            "Collecting pip<22.0\n",
            "  Using cached pip-21.3.1-py3-none-any.whl (1.7 MB)\n",
            "Installing collected packages: pip\n",
            "  Attempting uninstall: pip\n",
            "    Found existing installation: pip 21.3.1\n",
            "    Uninstalling pip-21.3.1:\n",
            "      Successfully uninstalled pip-21.3.1\n",
            "Successfully installed pip-21.3.1\n",
            "\u001b[33mWARNING: Running pip as the 'root' user can result in broken permissions and conflicting behaviour with the system package manager. It is recommended to use a virtual environment instead: https://pip.pypa.io/warnings/venv\u001b[0m\n",
            "Reading package lists... Done\n",
            "Building dependency tree       \n",
            "Reading state information... Done\n",
            "python3-pip is already the newest version (20.0.2-5ubuntu1.8).\n",
            "0 upgraded, 0 newly installed, 0 to remove and 47 not upgraded.\n",
            "Looking in indexes: https://pypi.org/simple, https://us-python.pkg.dev/colab-wheels/public/simple/\n",
            "Requirement already satisfied: pip in /usr/local/lib/python3.6/dist-packages (21.3.1)\n",
            "\u001b[33mWARNING: Running pip as the 'root' user can result in broken permissions and conflicting behaviour with the system package manager. It is recommended to use a virtual environment instead: https://pip.pypa.io/warnings/venv\u001b[0m\n",
            "Python 3.6.15\n"
          ]
        }
      ]
    },
    {
      "cell_type": "code",
      "metadata": {
        "id": "XIVB0Xn1g6ih",
        "colab": {
          "base_uri": "https://localhost:8080/"
        },
        "outputId": "7279f984-f260-49f6-9db9-44d479bdb273"
      },
      "source": [
        "!nvcc --version"
      ],
      "execution_count": 1,
      "outputs": [
        {
          "output_type": "stream",
          "name": "stdout",
          "text": [
            "nvcc: NVIDIA (R) Cuda compiler driver\n",
            "Copyright (c) 2005-2022 NVIDIA Corporation\n",
            "Built on Wed_Sep_21_10:33:58_PDT_2022\n",
            "Cuda compilation tools, release 11.8, V11.8.89\n",
            "Build cuda_11.8.r11.8/compiler.31833905_0\n"
          ]
        }
      ]
    },
    {
      "cell_type": "code",
      "metadata": {
        "id": "qciH4PsUazL_",
        "colab": {
          "base_uri": "https://localhost:8080/"
        },
        "outputId": "cef0fd93-87f6-4b6d-d481-4b7986112e7d"
      },
      "source": [
        "from google.colab import drive\n",
        "drive.mount('/content/gdrive')"
      ],
      "execution_count": 5,
      "outputs": [
        {
          "output_type": "stream",
          "name": "stdout",
          "text": [
            "Mounted at /content/gdrive\n"
          ]
        }
      ]
    },
    {
      "cell_type": "markdown",
      "metadata": {
        "id": "yJ5taGmPcWV-"
      },
      "source": [
        "# Get the code and models"
      ]
    },
    {
      "cell_type": "code",
      "metadata": {
        "id": "P3LihClHbUd3",
        "colab": {
          "base_uri": "https://localhost:8080/"
        },
        "outputId": "8d7c5531-c55f-4609-ff76-80ee2ccb252f"
      },
      "source": [
        "!git clone https://github.com/Rudrabha/Wav2Lip.git"
      ],
      "execution_count": 6,
      "outputs": [
        {
          "output_type": "stream",
          "name": "stdout",
          "text": [
            "Cloning into 'Wav2Lip'...\n",
            "remote: Enumerating objects: 360, done.\u001b[K\n",
            "remote: Total 360 (delta 0), reused 0 (delta 0), pack-reused 360\u001b[K\n",
            "Receiving objects: 100% (360/360), 522.32 KiB | 4.05 MiB/s, done.\n",
            "Resolving deltas: 100% (198/198), done.\n"
          ]
        }
      ]
    },
    {
      "cell_type": "code",
      "metadata": {
        "id": "YjzMPy_Sb0AI",
        "outputId": "428ceb08-c793-450f-a44e-e076edf109f8",
        "colab": {
          "base_uri": "https://localhost:8080/"
        }
      },
      "source": [
        "!wget https://iiitaphyd-my.sharepoint.com/:u:/g/personal/radrabha_m_research_iiit_ac_in/EdjI7bZlgApMqsVoEUUXpLsBxqXbn5z8VTmoxp55YNDcIA?e=n9ljGW -O /content/Wav2Lip/checkpoints/wav2lip_gan.pth"
      ],
      "execution_count": 9,
      "outputs": [
        {
          "output_type": "stream",
          "name": "stdout",
          "text": [
            "--2023-03-21 10:14:57--  https://iiitaphyd-my.sharepoint.com/:u:/g/personal/radrabha_m_research_iiit_ac_in/EdjI7bZlgApMqsVoEUUXpLsBxqXbn5z8VTmoxp55YNDcIA?e=n9ljGW\n",
            "Resolving iiitaphyd-my.sharepoint.com (iiitaphyd-my.sharepoint.com)... 13.107.136.8, 13.107.138.8, 2620:1ec:8f8::8, ...\n",
            "Connecting to iiitaphyd-my.sharepoint.com (iiitaphyd-my.sharepoint.com)|13.107.136.8|:443... connected.\n",
            "HTTP request sent, awaiting response... 302 Found\n",
            "Location: https://iiitaphyd-my.sharepoint.com/personal/radrabha_m_research_iiit_ac_in/_layouts/15/onedrive.aspx?id=%2Fpersonal%2Fradrabha%5Fm%5Fresearch%5Fiiit%5Fac%5Fin%2FDocuments%2FWav2Lip%5FModels%2Fwav2lip%5Fgan%2Epth&parent=%2Fpersonal%2Fradrabha%5Fm%5Fresearch%5Fiiit%5Fac%5Fin%2FDocuments%2FWav2Lip%5FModels&ga=1 [following]\n",
            "--2023-03-21 10:14:59--  https://iiitaphyd-my.sharepoint.com/personal/radrabha_m_research_iiit_ac_in/_layouts/15/onedrive.aspx?id=%2Fpersonal%2Fradrabha%5Fm%5Fresearch%5Fiiit%5Fac%5Fin%2FDocuments%2FWav2Lip%5FModels%2Fwav2lip%5Fgan%2Epth&parent=%2Fpersonal%2Fradrabha%5Fm%5Fresearch%5Fiiit%5Fac%5Fin%2FDocuments%2FWav2Lip%5FModels&ga=1\n",
            "Reusing existing connection to iiitaphyd-my.sharepoint.com:443.\n",
            "HTTP request sent, awaiting response... 200 OK\n",
            "Length: 158123 (154K) [text/html]\n",
            "Saving to: ‘/content/Wav2Lip/checkpoints/wav2lip_gan.pth’\n",
            "\n",
            "/content/Wav2Lip/ch 100%[===================>] 154.42K   246KB/s    in 0.6s    \n",
            "\n",
            "2023-03-21 10:15:00 (246 KB/s) - ‘/content/Wav2Lip/checkpoints/wav2lip_gan.pth’ saved [158123/158123]\n",
            "\n"
          ]
        }
      ]
    },
    {
      "cell_type": "markdown",
      "metadata": {
        "id": "aWTaOS3ncFt6"
      },
      "source": [
        "# Get the pre-requisites"
      ]
    },
    {
      "cell_type": "code",
      "metadata": {
        "id": "Ooh28vw-Uvd3",
        "colab": {
          "base_uri": "https://localhost:8080/"
        },
        "outputId": "66358008-06d0-44a5-e631-9c3ece02e6c7"
      },
      "source": [
        "!pip uninstall tensorflow tensorflow-gpu -y"
      ],
      "execution_count": 10,
      "outputs": [
        {
          "output_type": "stream",
          "name": "stdout",
          "text": [
            "\u001b[33mWARNING: Skipping tensorflow as it is not installed.\u001b[0m\n",
            "\u001b[33mWARNING: Skipping tensorflow-gpu as it is not installed.\u001b[0m\n",
            "\u001b[33mWARNING: Running pip as the 'root' user can result in broken permissions and conflicting behaviour with the system package manager. It is recommended to use a virtual environment instead: https://pip.pypa.io/warnings/venv\u001b[0m\n"
          ]
        }
      ]
    },
    {
      "cell_type": "code",
      "metadata": {
        "id": "49dCYlLdcK2D",
        "colab": {
          "base_uri": "https://localhost:8080/"
        },
        "outputId": "247c0338-5b78-4b2c-9e15-a9b83705f451"
      },
      "source": [
        "!cd Wav2Lip && pip install -r requirements.txt"
      ],
      "execution_count": null,
      "outputs": [
        {
          "output_type": "stream",
          "name": "stdout",
          "text": [
            "Looking in indexes: https://pypi.org/simple, https://us-python.pkg.dev/colab-wheels/public/simple/\n",
            "Collecting librosa==0.7.0\n",
            "  Downloading librosa-0.7.0.tar.gz (1.6 MB)\n",
            "     |████████████████████████████████| 1.6 MB 5.1 MB/s            \n",
            "\u001b[?25h  Preparing metadata (setup.py) ... \u001b[?25l\u001b[?25hdone\n",
            "Collecting numpy==1.17.1\n",
            "  Downloading numpy-1.17.1-cp36-cp36m-manylinux1_x86_64.whl (20.4 MB)\n",
            "     |████████████████████████████████| 20.4 MB 267 kB/s             \n",
            "\u001b[?25hCollecting opencv-contrib-python>=4.2.0.34\n",
            "  Downloading opencv-contrib-python-4.7.0.72.tar.gz (150.5 MB)\n",
            "     |████████████████████████████████| 150.5 MB 42 kB/s             \n",
            "\u001b[?25h  Installing build dependencies ... \u001b[?25l\u001b[?25hdone\n",
            "  Getting requirements to build wheel ... \u001b[?25l\u001b[?25hdone\n",
            "  Preparing metadata (pyproject.toml) ... \u001b[?25l\u001b[?25hdone\n",
            "Collecting opencv-python==4.1.0.25\n",
            "  Downloading opencv_python-4.1.0.25-cp36-cp36m-manylinux1_x86_64.whl (26.6 MB)\n",
            "     |████████████████████████████████| 26.6 MB 1.2 MB/s             \n",
            "\u001b[?25hCollecting torch==1.1.0\n",
            "  Downloading torch-1.1.0-cp36-cp36m-manylinux1_x86_64.whl (676.9 MB)\n",
            "     |████████████████████████████████| 676.9 MB 5.0 kB/s             \n",
            "\u001b[?25hCollecting torchvision==0.3.0\n",
            "  Downloading torchvision-0.3.0-cp36-cp36m-manylinux1_x86_64.whl (2.6 MB)\n",
            "     |████████████████████████████████| 2.6 MB 73.4 MB/s            \n",
            "\u001b[?25hCollecting tqdm==4.45.0\n",
            "  Downloading tqdm-4.45.0-py2.py3-none-any.whl (60 kB)\n",
            "     |████████████████████████████████| 60 kB 8.7 MB/s             \n",
            "\u001b[?25hCollecting numba==0.48\n",
            "  Downloading numba-0.48.0-1-cp36-cp36m-manylinux2014_x86_64.whl (3.5 MB)\n",
            "     |████████████████████████████████| 3.5 MB 69.5 MB/s            \n",
            "\u001b[?25hCollecting audioread>=2.0.0\n",
            "  Downloading audioread-3.0.0.tar.gz (377 kB)\n",
            "     |████████████████████████████████| 377 kB 74.2 MB/s            \n",
            "\u001b[?25h  Preparing metadata (setup.py) ... \u001b[?25l\u001b[?25hdone\n",
            "Collecting scipy>=1.0.0\n",
            "  Downloading scipy-1.5.4-cp36-cp36m-manylinux1_x86_64.whl (25.9 MB)\n",
            "     |████████████████████████████████| 25.9 MB 81.8 MB/s            \n",
            "\u001b[?25hCollecting scikit-learn!=0.19.0,>=0.14.0\n",
            "  Downloading scikit_learn-0.24.2-cp36-cp36m-manylinux2010_x86_64.whl (22.2 MB)\n",
            "     |████████████████████████████████| 22.2 MB 1.3 MB/s             \n",
            "\u001b[?25hCollecting joblib>=0.12\n",
            "  Downloading joblib-1.1.1-py2.py3-none-any.whl (309 kB)\n",
            "     |████████████████████████████████| 309 kB 27.3 MB/s            \n",
            "\u001b[?25hCollecting decorator>=3.0.0\n",
            "  Downloading decorator-5.1.1-py3-none-any.whl (9.1 kB)\n",
            "Collecting six>=1.3\n",
            "  Downloading six-1.16.0-py2.py3-none-any.whl (11 kB)\n",
            "Collecting resampy>=0.2.0\n",
            "  Downloading resampy-0.4.2-py3-none-any.whl (3.1 MB)\n",
            "     |████████████████████████████████| 3.1 MB 54.1 MB/s            \n",
            "\u001b[?25hCollecting soundfile>=0.9.0\n",
            "  Downloading soundfile-0.12.1-py2.py3-none-manylinux_2_31_x86_64.whl (1.2 MB)\n",
            "     |████████████████████████████████| 1.2 MB 73.8 MB/s            \n",
            "\u001b[?25hCollecting pillow>=4.1.1\n",
            "  Downloading Pillow-8.4.0-cp36-cp36m-manylinux_2_17_x86_64.manylinux2014_x86_64.whl (3.1 MB)\n",
            "     |████████████████████████████████| 3.1 MB 74.3 MB/s            \n",
            "\u001b[?25hCollecting llvmlite<0.32.0,>=0.31.0dev0\n",
            "  Downloading llvmlite-0.31.0-cp36-cp36m-manylinux1_x86_64.whl (20.2 MB)\n",
            "     |████████████████████████████████| 20.2 MB 102.4 MB/s            \n",
            "\u001b[?25hRequirement already satisfied: setuptools in /usr/local/lib/python3.6/dist-packages (from numba==0.48->-r requirements.txt (line 8)) (59.6.0)\n",
            "Collecting resampy>=0.2.0\n",
            "  Downloading resampy-0.4.1-py3-none-any.whl (3.1 MB)\n",
            "     |████████████████████████████████| 3.1 MB 51.5 MB/s            \n",
            "\u001b[?25h  Downloading resampy-0.4.0-py3-none-any.whl (3.1 MB)\n",
            "     |████████████████████████████████| 3.1 MB 73.1 MB/s            \n",
            "\u001b[?25h  Downloading resampy-0.3.1-py3-none-any.whl (3.1 MB)\n",
            "     |████████████████████████████████| 3.1 MB 50.8 MB/s            \n",
            "\u001b[?25hCollecting threadpoolctl>=2.0.0\n",
            "  Downloading threadpoolctl-3.1.0-py3-none-any.whl (14 kB)\n",
            "Collecting cffi>=1.0\n",
            "  Downloading cffi-1.15.1-cp36-cp36m-manylinux_2_5_x86_64.manylinux1_x86_64.whl (402 kB)\n",
            "     |████████████████████████████████| 402 kB 74.2 MB/s            \n",
            "\u001b[?25hCollecting pycparser\n",
            "  Downloading pycparser-2.21-py2.py3-none-any.whl (118 kB)\n",
            "     |████████████████████████████████| 118 kB 79.9 MB/s            \n",
            "\u001b[?25hBuilding wheels for collected packages: librosa, opencv-contrib-python, audioread\n",
            "  Building wheel for librosa (setup.py) ... \u001b[?25l\u001b[?25hdone\n",
            "  Created wheel for librosa: filename=librosa-0.7.0-py3-none-any.whl size=1598360 sha256=46d05e40a81895a7523fcdf900c2f773080f1a46b569107e824fa169fd4ec4e3\n",
            "  Stored in directory: /root/.cache/pip/wheels/56/b6/02/457207964b08a32c4cbb19c02999c12a124bc9600ca4d843e7\n"
          ]
        }
      ]
    },
    {
      "cell_type": "code",
      "metadata": {
        "id": "ey_bN4M6X_95",
        "colab": {
          "base_uri": "https://localhost:8080/"
        },
        "outputId": "55f6c818-430e-4780-b89d-3373312c515b"
      },
      "source": [
        "!wget \"https://www.adrianbulat.com/downloads/python-fan/s3fd-619a316812.pth\" -O \"Wav2Lip/face_detection/detection/sfd/s3fd.pth\""
      ],
      "execution_count": null,
      "outputs": [
        {
          "output_type": "stream",
          "name": "stdout",
          "text": [
            "--2022-09-02 14:30:52--  https://www.adrianbulat.com/downloads/python-fan/s3fd-619a316812.pth\n",
            "Resolving www.adrianbulat.com (www.adrianbulat.com)... 45.136.29.207\n",
            "Connecting to www.adrianbulat.com (www.adrianbulat.com)|45.136.29.207|:443... connected.\n",
            "HTTP request sent, awaiting response... 200 OK\n",
            "Length: 89843225 (86M) [application/octet-stream]\n",
            "Saving to: ‘Wav2Lip/face_detection/detection/sfd/s3fd.pth’\n",
            "\n",
            "Wav2Lip/face_detect 100%[===================>]  85.68M  13.2MB/s    in 8.3s    \n",
            "\n",
            "2022-09-02 14:31:01 (10.3 MB/s) - ‘Wav2Lip/face_detection/detection/sfd/s3fd.pth’ saved [89843225/89843225]\n",
            "\n"
          ]
        }
      ]
    },
    {
      "cell_type": "markdown",
      "metadata": {
        "id": "qdIQfY2Kswcb"
      },
      "source": [
        "# Now lets try!"
      ]
    },
    {
      "cell_type": "code",
      "metadata": {
        "id": "KoVGMtjRZfeR",
        "colab": {
          "base_uri": "https://localhost:8080/"
        },
        "outputId": "d91d51f8-6895-411c-89a4-4b0e3c2f55eb"
      },
      "source": [
        "!cp \"/content/gdrive/My Drive/Wav2Lip/test.mp4\" \"/content/gdrive/My Drive/Wav2Lip/test.wav\" sample_data/\n",
        "!ls sample_data/"
      ],
      "execution_count": null,
      "outputs": [
        {
          "output_type": "stream",
          "name": "stdout",
          "text": [
            "anscombe.json\t\t      mnist_train_small.csv    test.mp4\n",
            "california_housing_test.csv   random12wefsodfnons.mp4  test.wav\n",
            "california_housing_train.csv  README.md\n",
            "mnist_test.csv\t\t      sdfnsdkgnjksdgv.wav\n"
          ]
        }
      ]
    },
    {
      "cell_type": "code",
      "metadata": {
        "id": "jR5utmDMcSZY",
        "colab": {
          "base_uri": "https://localhost:8080/"
        },
        "outputId": "d799af26-ecec-4aeb-87b7-cc89afb27107"
      },
      "source": [
        "!cd Wav2Lip && python inference.py --checkpoint_path checkpoints/wav2lip_gan.pth --face \"../sample_data/test.mp4\" --audio \"../sample_data/test.wav\""
      ],
      "execution_count": null,
      "outputs": [
        {
          "output_type": "stream",
          "name": "stdout",
          "text": [
            "Using cuda for inference.\n",
            "Reading video frames...\n",
            "Number of frames available for inference: 84\n",
            "(80, 98)\n",
            "Length of mel chunks: 27\n",
            "  0% 0/1 [00:00<?, ?it/s]\n",
            "  0% 0/2 [00:00<?, ?it/s]\u001b[ATHCudaCheck FAIL file=/pytorch/aten/src/THC/THCGeneral.cpp line=383 error=11 : invalid argument\n",
            "  0% 0/2 [00:00<?, ?it/s]\n",
            "Recovering from OOM error; New batch size: 8\n",
            "\n",
            "  0% 0/4 [00:00<?, ?it/s]\u001b[A\n",
            " 25% 1/4 [00:00<00:02,  1.39it/s]\u001b[A\n",
            " 75% 3/4 [00:00<00:00,  1.89it/s]\u001b[A\n",
            "100% 4/4 [00:01<00:00,  2.73it/s]\n",
            "Load checkpoint from: checkpoints/wav2lip_gan.pth\n",
            "Model loaded\n",
            "100% 1/1 [00:05<00:00,  5.85s/it]\n",
            "ffmpeg version 3.4.11-0ubuntu0.1 Copyright (c) 2000-2022 the FFmpeg developers\n",
            "  built with gcc 7 (Ubuntu 7.5.0-3ubuntu1~18.04)\n",
            "  configuration: --prefix=/usr --extra-version=0ubuntu0.1 --toolchain=hardened --libdir=/usr/lib/x86_64-linux-gnu --incdir=/usr/include/x86_64-linux-gnu --enable-gpl --disable-stripping --enable-avresample --enable-avisynth --enable-gnutls --enable-ladspa --enable-libass --enable-libbluray --enable-libbs2b --enable-libcaca --enable-libcdio --enable-libflite --enable-libfontconfig --enable-libfreetype --enable-libfribidi --enable-libgme --enable-libgsm --enable-libmp3lame --enable-libmysofa --enable-libopenjpeg --enable-libopenmpt --enable-libopus --enable-libpulse --enable-librubberband --enable-librsvg --enable-libshine --enable-libsnappy --enable-libsoxr --enable-libspeex --enable-libssh --enable-libtheora --enable-libtwolame --enable-libvorbis --enable-libvpx --enable-libwavpack --enable-libwebp --enable-libx265 --enable-libxml2 --enable-libxvid --enable-libzmq --enable-libzvbi --enable-omx --enable-openal --enable-opengl --enable-sdl2 --enable-libdc1394 --enable-libdrm --enable-libiec61883 --enable-chromaprint --enable-frei0r --enable-libopencv --enable-libx264 --enable-shared\n",
            "  libavutil      55. 78.100 / 55. 78.100\n",
            "  libavcodec     57.107.100 / 57.107.100\n",
            "  libavformat    57. 83.100 / 57. 83.100\n",
            "  libavdevice    57. 10.100 / 57. 10.100\n",
            "  libavfilter     6.107.100 /  6.107.100\n",
            "  libavresample   3.  7.  0 /  3.  7.  0\n",
            "  libswscale      4.  8.100 /  4.  8.100\n",
            "  libswresample   2.  9.100 /  2.  9.100\n",
            "  libpostproc    54.  7.100 / 54.  7.100\n",
            "\u001b[0;33mGuessed Channel Layout for Input Stream #0.0 : mono\n",
            "\u001b[0mInput #0, wav, from '../sample_data/test.wav':\n",
            "  Metadata:\n",
            "    encoder         : Lavf58.29.100\n",
            "  Duration: 00:00:01.22, bitrate: 256 kb/s\n",
            "    Stream #0:0: Audio: pcm_s16le ([1][0][0][0] / 0x0001), 16000 Hz, mono, s16, 256 kb/s\n",
            "Input #1, avi, from 'temp/result.avi':\n",
            "  Metadata:\n",
            "    encoder         : Lavf58.26.101\n",
            "  Duration: 00:00:01.08, start: 0.000000, bitrate: 427 kb/s\n",
            "    Stream #1:0: Video: mpeg4 (Simple Profile) (DIVX / 0x58564944), yuv420p, 160x160 [SAR 1:1 DAR 1:1], 394 kb/s, 25 fps, 25 tbr, 25 tbn, 25 tbc\n",
            "Stream mapping:\n",
            "  Stream #1:0 -> #0:0 (mpeg4 (native) -> h264 (libx264))\n",
            "  Stream #0:0 -> #0:1 (pcm_s16le (native) -> aac (native))\n",
            "Press [q] to stop, [?] for help\n",
            "\u001b[1;36m[libx264 @ 0x55f3bd122d00] \u001b[0m\u001b[0;33m-qscale is ignored, -crf is recommended.\n",
            "\u001b[0m\u001b[1;36m[libx264 @ 0x55f3bd122d00] \u001b[0musing SAR=1/1\n",
            "\u001b[1;36m[libx264 @ 0x55f3bd122d00] \u001b[0musing cpu capabilities: MMX2 SSE2Fast SSSE3 SSE4.2 AVX FMA3 BMI2 AVX2\n",
            "\u001b[1;36m[libx264 @ 0x55f3bd122d00] \u001b[0mprofile High, level 1.1\n",
            "\u001b[1;36m[libx264 @ 0x55f3bd122d00] \u001b[0m264 - core 152 r2854 e9a5903 - H.264/MPEG-4 AVC codec - Copyleft 2003-2017 - http://www.videolan.org/x264.html - options: cabac=1 ref=3 deblock=1:0:0 analyse=0x3:0x113 me=hex subme=7 psy=1 psy_rd=1.00:0.00 mixed_ref=1 me_range=16 chroma_me=1 trellis=1 8x8dct=1 cqm=0 deadzone=21,11 fast_pskip=1 chroma_qp_offset=-2 threads=3 lookahead_threads=1 sliced_threads=0 nr=0 decimate=1 interlaced=0 bluray_compat=0 constrained_intra=0 bframes=3 b_pyramid=2 b_adapt=1 b_bias=0 direct=1 weightb=1 open_gop=0 weightp=2 keyint=250 keyint_min=25 scenecut=40 intra_refresh=0 rc_lookahead=40 rc=crf mbtree=1 crf=23.0 qcomp=0.60 qpmin=0 qpmax=69 qpstep=4 ip_ratio=1.40 aq=1:1.00\n",
            "Output #0, mp4, to 'results/result_voice.mp4':\n",
            "  Metadata:\n",
            "    encoder         : Lavf57.83.100\n",
            "    Stream #0:0: Video: h264 (libx264) (avc1 / 0x31637661), yuv420p(progressive), 160x160 [SAR 1:1 DAR 1:1], q=-1--1, 25 fps, 12800 tbn, 25 tbc\n",
            "    Metadata:\n",
            "      encoder         : Lavc57.107.100 libx264\n",
            "    Side data:\n",
            "      cpb: bitrate max/min/avg: 0/0/0 buffer size: 0 vbv_delay: -1\n",
            "    Stream #0:1: Audio: aac (LC) (mp4a / 0x6134706D), 16000 Hz, mono, fltp, 69 kb/s\n",
            "    Metadata:\n",
            "      encoder         : Lavc57.107.100 aac\n",
            "frame=   27 fps=0.0 q=-1.0 Lsize=      30kB time=00:00:01.21 bitrate= 202.0kbits/s speed=17.5x    \n",
            "video:18kB audio:10kB subtitle:0kB other streams:0kB global headers:0kB muxing overhead: 7.071869%\n",
            "\u001b[1;36m[libx264 @ 0x55f3bd122d00] \u001b[0mframe I:1     Avg QP:24.19  size:  3270\n",
            "\u001b[1;36m[libx264 @ 0x55f3bd122d00] \u001b[0mframe P:16    Avg QP:25.33  size:   757\n",
            "\u001b[1;36m[libx264 @ 0x55f3bd122d00] \u001b[0mframe B:10    Avg QP:28.21  size:   189\n",
            "\u001b[1;36m[libx264 @ 0x55f3bd122d00] \u001b[0mconsecutive B-frames: 44.4% 14.8% 11.1% 29.6%\n",
            "\u001b[1;36m[libx264 @ 0x55f3bd122d00] \u001b[0mmb I  I16..4:  4.0% 69.0% 27.0%\n",
            "\u001b[1;36m[libx264 @ 0x55f3bd122d00] \u001b[0mmb P  I16..4:  1.0%  1.6%  0.2%  P16..4: 43.7% 22.6% 15.6%  0.0%  0.0%    skip:15.3%\n",
            "\u001b[1;36m[libx264 @ 0x55f3bd122d00] \u001b[0mmb B  I16..4:  0.3%  1.0%  0.0%  B16..8: 48.3%  8.8%  1.4%  direct: 1.9%  skip:38.3%  L0:38.7% L1:44.5% BI:16.8%\n",
            "\u001b[1;36m[libx264 @ 0x55f3bd122d00] \u001b[0m8x8 transform intra:66.2% inter:64.6%\n",
            "\u001b[1;36m[libx264 @ 0x55f3bd122d00] \u001b[0mcoded y,uvDC,uvAC intra: 71.7% 72.6% 29.9% inter: 23.7% 14.3% 0.5%\n",
            "\u001b[1;36m[libx264 @ 0x55f3bd122d00] \u001b[0mi16 v,h,dc,p: 43% 17% 35%  4%\n",
            "\u001b[1;36m[libx264 @ 0x55f3bd122d00] \u001b[0mi8 v,h,dc,ddl,ddr,vr,hd,vl,hu: 24% 13% 35%  4%  4%  8%  5%  4%  3%\n",
            "\u001b[1;36m[libx264 @ 0x55f3bd122d00] \u001b[0mi4 v,h,dc,ddl,ddr,vr,hd,vl,hu: 43% 10% 10%  4%  8% 11%  5%  7%  2%\n",
            "\u001b[1;36m[libx264 @ 0x55f3bd122d00] \u001b[0mi8c dc,h,v,p: 59% 15% 20%  6%\n",
            "\u001b[1;36m[libx264 @ 0x55f3bd122d00] \u001b[0mWeighted P-Frames: Y:6.2% UV:6.2%\n",
            "\u001b[1;36m[libx264 @ 0x55f3bd122d00] \u001b[0mref P L0: 65.4% 24.3%  8.3%  1.9%  0.1%\n",
            "\u001b[1;36m[libx264 @ 0x55f3bd122d00] \u001b[0mref B L0: 90.8%  7.7%  1.5%\n",
            "\u001b[1;36m[libx264 @ 0x55f3bd122d00] \u001b[0mref B L1: 98.6%  1.4%\n",
            "\u001b[1;36m[libx264 @ 0x55f3bd122d00] \u001b[0mkb/s:127.97\n",
            "\u001b[1;36m[aac @ 0x55f3bd170000] \u001b[0mQavg: 4839.380\n"
          ]
        }
      ]
    },
    {
      "cell_type": "code",
      "metadata": {
        "id": "uNOAZvkszEOw"
      },
      "source": [
        "# use the \"files\" button on the left to download the result in the Wav2Lip/results/ folder."
      ],
      "execution_count": null,
      "outputs": []
    },
    {
      "cell_type": "markdown",
      "metadata": {
        "id": "d7zgfrQqbKom"
      },
      "source": [
        "## **Variations to try**\n"
      ]
    },
    {
      "cell_type": "markdown",
      "metadata": {
        "id": "0f9A9VDVbZAG"
      },
      "source": [
        "1.   Use more padding to include the chin region"
      ]
    },
    {
      "cell_type": "code",
      "metadata": {
        "id": "45XW4SZAzIz5",
        "colab": {
          "base_uri": "https://localhost:8080/"
        },
        "outputId": "1b4ad167-2df2-4a0f-8cb3-566aea774bda"
      },
      "source": [
        "!cd Wav2Lip && python inference.py --checkpoint_path checkpoints/wav2lip_gan.pth --face \"../sample_data/test.mp4\" --audio \"../sample_data/sdfnsdkgnjksdgv.wav\" --pads 0 20 0 0"
      ],
      "execution_count": null,
      "outputs": [
        {
          "output_type": "stream",
          "name": "stdout",
          "text": [
            "Using cuda for inference.\n",
            "Reading video frames...\n",
            "Number of frames available for inference: 84\n",
            "(80, 123)\n",
            "Length of mel chunks: 35\n",
            "  0% 0/1 [00:00<?, ?it/s]\n",
            "  0% 0/3 [00:00<?, ?it/s]\u001b[ATHCudaCheck FAIL file=/pytorch/aten/src/THC/THCGeneral.cpp line=383 error=11 : invalid argument\n",
            "  0% 0/3 [00:00<?, ?it/s]\n",
            "Recovering from OOM error; New batch size: 8\n",
            "\n",
            "  0% 0/5 [00:00<?, ?it/s]\u001b[A\n",
            " 20% 1/5 [00:00<00:02,  1.35it/s]\u001b[A\n",
            " 60% 3/5 [00:00<00:01,  1.83it/s]\u001b[A\n",
            "100% 5/5 [00:01<00:00,  3.17it/s]\n",
            "Load checkpoint from: checkpoints/wav2lip_gan.pth\n",
            "Model loaded\n",
            "100% 1/1 [00:06<00:00,  6.06s/it]\n",
            "ffmpeg version 3.4.11-0ubuntu0.1 Copyright (c) 2000-2022 the FFmpeg developers\n",
            "  built with gcc 7 (Ubuntu 7.5.0-3ubuntu1~18.04)\n",
            "  configuration: --prefix=/usr --extra-version=0ubuntu0.1 --toolchain=hardened --libdir=/usr/lib/x86_64-linux-gnu --incdir=/usr/include/x86_64-linux-gnu --enable-gpl --disable-stripping --enable-avresample --enable-avisynth --enable-gnutls --enable-ladspa --enable-libass --enable-libbluray --enable-libbs2b --enable-libcaca --enable-libcdio --enable-libflite --enable-libfontconfig --enable-libfreetype --enable-libfribidi --enable-libgme --enable-libgsm --enable-libmp3lame --enable-libmysofa --enable-libopenjpeg --enable-libopenmpt --enable-libopus --enable-libpulse --enable-librubberband --enable-librsvg --enable-libshine --enable-libsnappy --enable-libsoxr --enable-libspeex --enable-libssh --enable-libtheora --enable-libtwolame --enable-libvorbis --enable-libvpx --enable-libwavpack --enable-libwebp --enable-libx265 --enable-libxml2 --enable-libxvid --enable-libzmq --enable-libzvbi --enable-omx --enable-openal --enable-opengl --enable-sdl2 --enable-libdc1394 --enable-libdrm --enable-libiec61883 --enable-chromaprint --enable-frei0r --enable-libopencv --enable-libx264 --enable-shared\n",
            "  libavutil      55. 78.100 / 55. 78.100\n",
            "  libavcodec     57.107.100 / 57.107.100\n",
            "  libavformat    57. 83.100 / 57. 83.100\n",
            "  libavdevice    57. 10.100 / 57. 10.100\n",
            "  libavfilter     6.107.100 /  6.107.100\n",
            "  libavresample   3.  7.  0 /  3.  7.  0\n",
            "  libswscale      4.  8.100 /  4.  8.100\n",
            "  libswresample   2.  9.100 /  2.  9.100\n",
            "  libpostproc    54.  7.100 / 54.  7.100\n",
            "\u001b[0;33mGuessed Channel Layout for Input Stream #0.0 : mono\n",
            "\u001b[0mInput #0, wav, from '../sample_data/sdfnsdkgnjksdgv.wav':\n",
            "  Metadata:\n",
            "    encoder         : Lavf58.29.100\n",
            "  Duration: 00:00:01.54, bitrate: 256 kb/s\n",
            "    Stream #0:0: Audio: pcm_s16le ([1][0][0][0] / 0x0001), 16000 Hz, mono, s16, 256 kb/s\n",
            "Input #1, avi, from 'temp/result.avi':\n",
            "  Metadata:\n",
            "    encoder         : Lavf58.26.101\n",
            "  Duration: 00:00:01.40, start: 0.000000, bitrate: 387 kb/s\n",
            "    Stream #1:0: Video: mpeg4 (Simple Profile) (DIVX / 0x58564944), yuv420p, 160x160 [SAR 1:1 DAR 1:1], 360 kb/s, 25 fps, 25 tbr, 25 tbn, 25 tbc\n",
            "Stream mapping:\n",
            "  Stream #1:0 -> #0:0 (mpeg4 (native) -> h264 (libx264))\n",
            "  Stream #0:0 -> #0:1 (pcm_s16le (native) -> aac (native))\n",
            "Press [q] to stop, [?] for help\n",
            "\u001b[1;36m[libx264 @ 0x5609f4494d00] \u001b[0m\u001b[0;33m-qscale is ignored, -crf is recommended.\n",
            "\u001b[0m\u001b[1;36m[libx264 @ 0x5609f4494d00] \u001b[0musing SAR=1/1\n",
            "\u001b[1;36m[libx264 @ 0x5609f4494d00] \u001b[0musing cpu capabilities: MMX2 SSE2Fast SSSE3 SSE4.2 AVX FMA3 BMI2 AVX2\n",
            "\u001b[1;36m[libx264 @ 0x5609f4494d00] \u001b[0mprofile High, level 1.1\n",
            "\u001b[1;36m[libx264 @ 0x5609f4494d00] \u001b[0m264 - core 152 r2854 e9a5903 - H.264/MPEG-4 AVC codec - Copyleft 2003-2017 - http://www.videolan.org/x264.html - options: cabac=1 ref=3 deblock=1:0:0 analyse=0x3:0x113 me=hex subme=7 psy=1 psy_rd=1.00:0.00 mixed_ref=1 me_range=16 chroma_me=1 trellis=1 8x8dct=1 cqm=0 deadzone=21,11 fast_pskip=1 chroma_qp_offset=-2 threads=3 lookahead_threads=1 sliced_threads=0 nr=0 decimate=1 interlaced=0 bluray_compat=0 constrained_intra=0 bframes=3 b_pyramid=2 b_adapt=1 b_bias=0 direct=1 weightb=1 open_gop=0 weightp=2 keyint=250 keyint_min=25 scenecut=40 intra_refresh=0 rc_lookahead=40 rc=crf mbtree=1 crf=23.0 qcomp=0.60 qpmin=0 qpmax=69 qpstep=4 ip_ratio=1.40 aq=1:1.00\n",
            "Output #0, mp4, to 'results/result_voice.mp4':\n",
            "  Metadata:\n",
            "    encoder         : Lavf57.83.100\n",
            "    Stream #0:0: Video: h264 (libx264) (avc1 / 0x31637661), yuv420p(progressive), 160x160 [SAR 1:1 DAR 1:1], q=-1--1, 25 fps, 12800 tbn, 25 tbc\n",
            "    Metadata:\n",
            "      encoder         : Lavc57.107.100 libx264\n",
            "    Side data:\n",
            "      cpb: bitrate max/min/avg: 0/0/0 buffer size: 0 vbv_delay: -1\n",
            "    Stream #0:1: Audio: aac (LC) (mp4a / 0x6134706D), 16000 Hz, mono, fltp, 69 kb/s\n",
            "    Metadata:\n",
            "      encoder         : Lavc57.107.100 aac\n",
            "frame=   35 fps=0.0 q=-1.0 Lsize=      37kB time=00:00:01.53 bitrate= 197.0kbits/s speed=17.8x    \n",
            "video:22kB audio:13kB subtitle:0kB other streams:0kB global headers:0kB muxing overhead: 6.031390%\n",
            "\u001b[1;36m[libx264 @ 0x5609f4494d00] \u001b[0mframe I:1     Avg QP:24.39  size:  3148\n",
            "\u001b[1;36m[libx264 @ 0x5609f4494d00] \u001b[0mframe P:24    Avg QP:25.46  size:   710\n",
            "\u001b[1;36m[libx264 @ 0x5609f4494d00] \u001b[0mframe B:10    Avg QP:27.77  size:   177\n",
            "\u001b[1;36m[libx264 @ 0x5609f4494d00] \u001b[0mconsecutive B-frames: 57.1%  5.7% 25.7% 11.4%\n",
            "\u001b[1;36m[libx264 @ 0x5609f4494d00] \u001b[0mmb I  I16..4:  4.0% 68.0% 28.0%\n",
            "\u001b[1;36m[libx264 @ 0x5609f4494d00] \u001b[0mmb P  I16..4:  0.5%  1.5%  0.1%  P16..4: 44.1% 20.6% 12.7%  0.0%  0.0%    skip:20.6%\n",
            "\u001b[1;36m[libx264 @ 0x5609f4494d00] \u001b[0mmb B  I16..4:  0.2%  0.5%  0.0%  B16..8: 46.1%  7.5%  1.2%  direct: 1.1%  skip:43.4%  L0:36.8% L1:43.9% BI:19.2%\n",
            "\u001b[1;36m[libx264 @ 0x5609f4494d00] \u001b[0m8x8 transform intra:69.4% inter:62.5%\n",
            "\u001b[1;36m[libx264 @ 0x5609f4494d00] \u001b[0mcoded y,uvDC,uvAC intra: 74.7% 76.4% 31.8% inter: 24.3% 16.2% 0.6%\n",
            "\u001b[1;36m[libx264 @ 0x5609f4494d00] \u001b[0mi16 v,h,dc,p: 41% 24% 29%  6%\n",
            "\u001b[1;36m[libx264 @ 0x5609f4494d00] \u001b[0mi8 v,h,dc,ddl,ddr,vr,hd,vl,hu: 26% 12% 37%  2%  4%  6%  5%  4%  3%\n",
            "\u001b[1;36m[libx264 @ 0x5609f4494d00] \u001b[0mi4 v,h,dc,ddl,ddr,vr,hd,vl,hu: 36% 12% 14%  5%  6% 13%  3%  7%  2%\n",
            "\u001b[1;36m[libx264 @ 0x5609f4494d00] \u001b[0mi8c dc,h,v,p: 55% 16% 24%  6%\n",
            "\u001b[1;36m[libx264 @ 0x5609f4494d00] \u001b[0mWeighted P-Frames: Y:4.2% UV:4.2%\n",
            "\u001b[1;36m[libx264 @ 0x5609f4494d00] \u001b[0mref P L0: 64.0% 22.9%  9.5%  3.6%  0.1%\n",
            "\u001b[1;36m[libx264 @ 0x5609f4494d00] \u001b[0mref B L0: 93.0%  6.1%  1.0%\n",
            "\u001b[1;36m[libx264 @ 0x5609f4494d00] \u001b[0mref B L1: 99.4%  0.6%\n",
            "\u001b[1;36m[libx264 @ 0x5609f4494d00] \u001b[0mkb/s:125.51\n",
            "\u001b[1;36m[aac @ 0x5609f449a000] \u001b[0mQavg: 2369.354\n"
          ]
        }
      ]
    },
    {
      "cell_type": "markdown",
      "metadata": {
        "id": "uo-WnsxfbwTG"
      },
      "source": [
        "2.   Use resize_factor to reduce the video resolution, as there is a change you might get better results for lower resolution videos. Why? Because the model was trained on low resolution faces."
      ]
    },
    {
      "cell_type": "code",
      "metadata": {
        "id": "xw0xFtZ2bsx8"
      },
      "source": [
        "!cd Wav2Lip && python inference.py --checkpoint_path checkpoints/wav2lip_gan.pth --face \"../sample_data/input_vid.mp4\" --audio \"../sample_data/input_audio.wav\" --resize_factor 2"
      ],
      "execution_count": null,
      "outputs": []
    }
  ]
}